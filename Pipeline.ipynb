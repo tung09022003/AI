{
 "cells": [
  {
   "cell_type": "markdown",
   "metadata": {},
   "source": [
    "# Pipeline 示例\n",
    "使用 `transformers` 库中的 Pipeline 功能来快速实现 NLP 任务。"
   ]
  },
  {
   "cell_type": "code",
   "execution_count": null,
   "metadata": {},
   "outputs": [],
   "source": [
    "# 导入库\n",
    "from transformers import pipeline\n",
    "\n",
    "# 创建一个情感分析的管道\n",
    "# 模型：distilbert-base-uncased，适用于英文情感分析\n",
    "sentiment_pipeline = pipeline(\"sentiment-analysis\", model=\"distilbert-base-uncased\")\n",
    "\n",
    "# 测试数据\n",
    "data = [\"I love this movie!\", \"This is the worst day of my life.\"]\n",
    "\n",
    "# 获取结果\n",
    "results = sentiment_pipeline(data)\n",
    "for result in results:\n",
    "    print(f\"标签: {result['label']}, 置信度: {result['score']:.4f}\")"
   ]
  }
 ],
 "metadata": {
  "kernelspec": {
   "display_name": "Python 3",
   "language": "python",
   "name": "python3"
  },
  "language_info": {
   "codemirror_mode": {
    "name": "ipython",
    "version": 3
   },
   "file_extension": ".py",
   "mimetype": "text/x-python",
   "name": "python",
   "nbconvert_exporter": "python",
   "pygments_lexer": "ipython3",
   "version": "3.9.7"
  }
 },
 "nbformat": 4,
 "nbformat_minor": 5
}
