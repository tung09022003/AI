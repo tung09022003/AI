{
 "cells": [
  {
   "cell_type": "markdown",
   "metadata": {},
   "source": [
    "# 使用 PEFT 和 Adapter 微调模型\n",
    "本示例展示如何使用 PEFT（参数高效微调）技术结合 Adapter 来微调模型。"
   ]
  },
  {
   "cell_type": "code",
   "execution_count": null,
   "metadata": {},
   "outputs": [],
   "source": [
    "# 安装 peft 库（如果尚未安装）\n",
    "!pip install peft\n",
    "\n",
    "# 导入必要库\n",
    "from transformers import AutoModelForSequenceClassification, AutoTokenizer\n",
    "from peft import PeftModel, PeftConfig, get_peft_model, TaskType\n",
    "\n",
    "# 加载基础模型和分词器\n",
    "base_model_name = \"bert-base-chinese\"\n",
    "tokenizer = AutoTokenizer.from_pretrained(base_model_name)\n",
    "base_model = AutoModelForSequenceClassification.from_pretrained(base_model_name, num_labels=2)\n",
    "\n",
    "# 配置 Adapter\n",
    "peft_config = PeftConfig(\n",
    "    task_type=TaskType.SEQ_CLS,  # 任务类型：文本分类\n",
    "    inference_mode=False,       # 是否仅用于推理\n",
    "    r=16,                       # 降低参数维度\n",
    "    lora_alpha=32,              # LoRA 的 alpha 参数\n",
    "    lora_dropout=0.1            # 随机失活比例\n",
    ")\n",
    "\n",
    "# 将 Adapter 添加到模型中\n",
    "peft_model = get_peft_model(base_model, peft_config)\n",
    "\n",
    "# 打印模型结构（包含 Adapter）\n",
    "print(peft_model)"
   ]
  },
  {
   "cell_type": "markdown",
   "metadata": {},
   "source": [
    "### 微调模型\n",
    "以下是微调的简化代码。"
   ]
  },
  {
   "cell_type": "code",
   "execution_count": null,
   "metadata": {},
   "outputs": [],
   "source": [
    "# 定义数据集（伪数据）\n",
    "train_texts = [\"这个商品非常好！\", \"我讨厌这家店。\"]\n",
    "train_labels = [1, 0]\n",
    "\n",
    "# 编码输入数据\n",
    "train_encodings = tokenizer(train_texts, truncation=True, padding=True, max_length=128, return_tensors=\"pt\")\n",
    "train_dataset = list(zip(train_encodings['input_ids'], train_labels))\n",
    "\n",
    "# 定义训练参数\n",
    "from transformers import Trainer, TrainingArguments\n",
    "training_args = TrainingArguments(\n",
    "    output_dir=\"./peft_results\",\n",
    "    num_train_epochs=3,\n",
    "    per_device_train_batch_size=8,\n",
    "    logging_dir=\"./logs\",\n",
    "    logging_steps=10\n",
    ")\n",
    "\n",
    "# 创建 Trainer 并微调\n",
    "trainer = Trainer(\n",
    "    model=peft_model,\n",
    "    args=training_args,\n",
    "    train_dataset=train_dataset\n",
    ")\n",
    "\n",
    "# 开始训练\n",
    "trainer.train()"
   ]
  }
 ],
 "metadata": {
  "kernelspec": {
   "display_name": "Python 3",
   "language": "python",
   "name": "python3"
  },
  "language_info": {
   "file_extension": ".py",
   "mimetype": "text/x-python",
   "name": "python",
   "nbconvert_exporter": "python",
   "pygments_lexer": "ipython3",
   "version": "3.9.7"
  }
 },
 "nbformat": 4,
 "nbformat_minor": 5
}
