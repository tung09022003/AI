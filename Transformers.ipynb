{
 "cells": [
  {
   "cell_type": "markdown",
   "metadata": {},
   "source": [
    "# 使用 Transformers 库\n",
    "本示例展示如何加载模型和分词器，并对输入数据进行处理。"
   ]
  },
  {
   "cell_type": "code",
   "execution_count": null,
   "metadata": {},
   "outputs": [],
   "source": [
    "# 导入库\n",
    "from transformers import AutoModel, AutoTokenizer\n",
    "\n",
    "# 加载预训练的 BERT 模型和分词器\n",
    "model_name = \"bert-base-uncased\"\n",
    "tokenizer = AutoTokenizer.from_pretrained(model_name)\n",
    "model = AutoModel.from_pretrained(model_name)\n",
    "\n",
    "# 输入文本\n",
    "text = \"Transformers are amazing for NLP tasks!\"\n",
    "\n",
    "# 编码输入\n",
    "inputs = tokenizer(text, return_tensors=\"pt\")\n",
    "\n",
    "# 模型前向传播\n",
    "outputs = model(**inputs)\n",
    "print(\"输出隐藏状态维度:\", outputs.last_hidden_state.shape)"
   ]
  }
 ],
 "metadata": {
  "kernelspec": {
   "display_name": "Python 3",
   "language": "python",
   "name": "python3"
  },
  "language_info": {
   "file_extension": ".py",
   "mimetype": "text/x-python",
   "name": "python",
   "nbconvert_exporter": "python",
   "pygments_lexer": "ipython3",
   "version": "3.9.7"
  }
 },
 "nbformat": 4,
 "nbformat_minor": 5
}
