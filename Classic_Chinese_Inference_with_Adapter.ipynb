{
 "cells": [
  {
   "cell_type": "markdown",
   "metadata": {},
   "source": [
    "# 使用 Adapter 模型进行推理\n",
    "本示例展示如何加载使用 Adapter 微调后的模型，并对输入文本进行推理。"
   ]
  },
  {
   "cell_type": "code",
   "execution_count": null,
   "metadata": {},
   "outputs": [],
   "source": [
    "# 导入必要库\n",
    "from transformers import AutoTokenizer\n",
    "from peft import PeftModel\n",
    "\n",
    "# 加载微调后的模型\n",
    "model_name = \"./peft_results\"\n",
    "tokenizer = AutoTokenizer.from_pretrained(\"bert-base-chinese\")\n",
    "model = PeftModel.from_pretrained(model_name)\n",
    "\n",
    "# 输入测试数据\n",
    "test_texts = [\"这个产品很棒！\", \"差劲的服务！\"]\n",
    "\n",
    "# 编码输入数据\n",
    "inputs = tokenizer(test_texts, truncation=True, padding=True, return_tensors=\"pt\")\n",
    "\n",
    "# 使用模型进行推理\n",
    "outputs = model(**inputs)\n",
    "\n",
    "# 处理输出\n",
    "import torch\n",
    "predictions = torch.argmax(outputs.logits, dim=-1)\n",
    "for text, pred in zip(test_texts, predictions):\n",
    "    label = \"正面\" if pred.item() == 1 else \"负面\"\n",
    "    print(f\"输入: {text}, 预测结果: {label}\")"
   ]
  }
 ],
 "metadata": {
  "kernelspec": {
   "display_name": "Python 3",
   "language": "python",
   "name": "python3"
  },
  "language_info": {
   "file_extension": ".py",
   "mimetype": "text/x-python",
   "name": "python",
   "nbconvert_exporter": "python",
   "pygments_lexer": "ipython3",
   "version": "3.9.7"
  }
 },
 "nbformat": 4,
 "nbformat_minor": 5
}
